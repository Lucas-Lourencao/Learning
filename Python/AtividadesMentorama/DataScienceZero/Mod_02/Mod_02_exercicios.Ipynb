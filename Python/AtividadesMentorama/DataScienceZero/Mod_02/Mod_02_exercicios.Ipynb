{
 "cells": [
  {
   "cell_type": "code",
   "execution_count": 1,
   "metadata": {},
   "outputs": [
    {
     "name": "stdout",
     "output_type": "stream",
     "text": [
      "True\n"
     ]
    }
   ],
   "source": [
    "# Exercício 1: \n",
    "# Exercício 1.1: \n",
    "\n",
    "var1 = 'Data'\n",
    "var2 = 'Science'\n",
    "\n",
    "print(var1 != var2)"
   ]
  },
  {
   "cell_type": "code",
   "execution_count": 2,
   "metadata": {},
   "outputs": [
    {
     "name": "stdout",
     "output_type": "stream",
     "text": [
      "0\n"
     ]
    }
   ],
   "source": [
    "# Exercício 1: \n",
    "# Exercício 1.2:\n",
    "\n",
    "n1 = 10\n",
    "n2 = 5\n",
    "print(n1 % n2)"
   ]
  },
  {
   "cell_type": "code",
   "execution_count": 3,
   "metadata": {},
   "outputs": [
    {
     "name": "stdout",
     "output_type": "stream",
     "text": [
      "{'arroz', 'carne', 'legumes', 'feijão', 'ovos', 'macarrão'}\n"
     ]
    }
   ],
   "source": [
    "# Exercício 2: \n",
    "# Exercício 2.1: \n",
    "listaString = ['arroz', 'feijão', 'macarrão', 'legumes', 'carne', 'ovos', 'macarrão', 'arroz']\n",
    "\n",
    "# Transformando a lista de Strings em um conjunto de Strngs.\n",
    "conjString = set(listaString)\n",
    "\n",
    "#  Repara que a saída não conterá elementos repetidos.\n",
    "print(conjString)"
   ]
  },
  {
   "cell_type": "code",
   "execution_count": 4,
   "metadata": {},
   "outputs": [
    {
     "name": "stdout",
     "output_type": "stream",
     "text": [
      "8\n",
      "6\n"
     ]
    }
   ],
   "source": [
    "# Exercício 2: \n",
    "# Exercício 2.2:\n",
    "print(len(listaString))\n",
    "print(len(conjString))"
   ]
  },
  {
   "cell_type": "code",
   "execution_count": 5,
   "metadata": {},
   "outputs": [
    {
     "name": "stdout",
     "output_type": "stream",
     "text": [
      "[('Tiago', ['Misto Quente', 'Café Duplo']), ('Talita', ['Pão de queijo', 'Brownie', 'Café com Leite (p)']), ('Franciely', 'Café Duplo')]\n",
      "{'Tiago': ['Misto Quente', 'Café Duplo'], 'Talita': ['Pão de queijo', 'Brownie', 'Café com Leite (p)'], 'Franciely': 'Café Duplo'}\n"
     ]
    }
   ],
   "source": [
    "# Exercício 3: \n",
    "# Lista_01\n",
    "listaClientes = ['Tiago', 'Talita', 'Franciely']\n",
    "\n",
    "# Lista_02\n",
    "consumo = [['Misto Quente', 'Café Duplo'], ['Pão de queijo', 'Brownie', 'Café com Leite (p)'], 'Café Duplo']\n",
    "\n",
    "# A funçãa ZIP \"retorna uma lista de tuplas (Após a aplicação da função list())\" onde onde cada tupla corresponde ao i-ésimo elemento de cada lista\n",
    "consumoClientes = list(zip(listaClientes, consumo)); \n",
    "\n",
    "print(consumoClientes)\n",
    "\n",
    "# Para converter a lista de tuplas em um dicionário utilizamos a função dict()\n",
    "dicClienteConsumo = dict(consumoClientes)\n",
    "print(dicClienteConsumo)"
   ]
  }
 ],
 "metadata": {
  "kernelspec": {
   "display_name": "Python 3",
   "language": "python",
   "name": "python3"
  },
  "language_info": {
   "codemirror_mode": {
    "name": "ipython",
    "version": 3
   },
   "file_extension": ".py",
   "mimetype": "text/x-python",
   "name": "python",
   "nbconvert_exporter": "python",
   "pygments_lexer": "ipython3",
   "version": "3.11.1"
  },
  "orig_nbformat": 4,
  "vscode": {
   "interpreter": {
    "hash": "b5ecfca3401c291dcb2a8e6ff9d9f64f4f1eeab21fd8b2b195c87381ae7d7938"
   }
  }
 },
 "nbformat": 4,
 "nbformat_minor": 2
}
