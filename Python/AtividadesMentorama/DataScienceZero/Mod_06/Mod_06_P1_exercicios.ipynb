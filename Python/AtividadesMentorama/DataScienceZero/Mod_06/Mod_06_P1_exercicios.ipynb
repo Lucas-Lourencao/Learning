{
 "cells": [
  {
   "cell_type": "markdown",
   "metadata": {},
   "source": [
    "### TAREFAS 1 e 3"
   ]
  },
  {
   "cell_type": "markdown",
   "metadata": {},
   "source": [
    "**Ex1**: Analise e quantifique a relação da variável survived com a variável sex usando o conjunto de dados do titanic. Faça seus gráficos e calcule o chi-quadrado para quantificar a relação."
   ]
  },
  {
   "cell_type": "code",
   "execution_count": 1,
   "metadata": {},
   "outputs": [],
   "source": [
    "#impotando as bibliotecas\n",
    "import numpy as np\n",
    "import pandas as pd\n",
    "import matplotlib.pyplot as plt"
   ]
  },
  {
   "cell_type": "code",
   "execution_count": 2,
   "metadata": {},
   "outputs": [
    {
     "data": {
      "text/html": [
       "<div>\n",
       "<style scoped>\n",
       "    .dataframe tbody tr th:only-of-type {\n",
       "        vertical-align: middle;\n",
       "    }\n",
       "\n",
       "    .dataframe tbody tr th {\n",
       "        vertical-align: top;\n",
       "    }\n",
       "\n",
       "    .dataframe thead th {\n",
       "        text-align: right;\n",
       "    }\n",
       "</style>\n",
       "<table border=\"1\" class=\"dataframe\">\n",
       "  <thead>\n",
       "    <tr style=\"text-align: right;\">\n",
       "      <th></th>\n",
       "      <th>PassengerId</th>\n",
       "      <th>Survived</th>\n",
       "      <th>Pclass</th>\n",
       "      <th>Name</th>\n",
       "      <th>Sex</th>\n",
       "      <th>Age</th>\n",
       "      <th>SibSp</th>\n",
       "      <th>Parch</th>\n",
       "      <th>Ticket</th>\n",
       "      <th>Fare</th>\n",
       "      <th>Cabin</th>\n",
       "      <th>Embarked</th>\n",
       "    </tr>\n",
       "  </thead>\n",
       "  <tbody>\n",
       "    <tr>\n",
       "      <th>0</th>\n",
       "      <td>1</td>\n",
       "      <td>0</td>\n",
       "      <td>3</td>\n",
       "      <td>Braund, Mr. Owen Harris</td>\n",
       "      <td>male</td>\n",
       "      <td>22.0</td>\n",
       "      <td>1</td>\n",
       "      <td>0</td>\n",
       "      <td>A/5 21171</td>\n",
       "      <td>7.2500</td>\n",
       "      <td>NaN</td>\n",
       "      <td>S</td>\n",
       "    </tr>\n",
       "    <tr>\n",
       "      <th>1</th>\n",
       "      <td>2</td>\n",
       "      <td>1</td>\n",
       "      <td>1</td>\n",
       "      <td>Cumings, Mrs. John Bradley (Florence Briggs Th...</td>\n",
       "      <td>female</td>\n",
       "      <td>38.0</td>\n",
       "      <td>1</td>\n",
       "      <td>0</td>\n",
       "      <td>PC 17599</td>\n",
       "      <td>71.2833</td>\n",
       "      <td>C85</td>\n",
       "      <td>C</td>\n",
       "    </tr>\n",
       "    <tr>\n",
       "      <th>2</th>\n",
       "      <td>3</td>\n",
       "      <td>1</td>\n",
       "      <td>3</td>\n",
       "      <td>Heikkinen, Miss. Laina</td>\n",
       "      <td>female</td>\n",
       "      <td>26.0</td>\n",
       "      <td>0</td>\n",
       "      <td>0</td>\n",
       "      <td>STON/O2. 3101282</td>\n",
       "      <td>7.9250</td>\n",
       "      <td>NaN</td>\n",
       "      <td>S</td>\n",
       "    </tr>\n",
       "    <tr>\n",
       "      <th>3</th>\n",
       "      <td>4</td>\n",
       "      <td>1</td>\n",
       "      <td>1</td>\n",
       "      <td>Futrelle, Mrs. Jacques Heath (Lily May Peel)</td>\n",
       "      <td>female</td>\n",
       "      <td>35.0</td>\n",
       "      <td>1</td>\n",
       "      <td>0</td>\n",
       "      <td>113803</td>\n",
       "      <td>53.1000</td>\n",
       "      <td>C123</td>\n",
       "      <td>S</td>\n",
       "    </tr>\n",
       "    <tr>\n",
       "      <th>4</th>\n",
       "      <td>5</td>\n",
       "      <td>0</td>\n",
       "      <td>3</td>\n",
       "      <td>Allen, Mr. William Henry</td>\n",
       "      <td>male</td>\n",
       "      <td>35.0</td>\n",
       "      <td>0</td>\n",
       "      <td>0</td>\n",
       "      <td>373450</td>\n",
       "      <td>8.0500</td>\n",
       "      <td>NaN</td>\n",
       "      <td>S</td>\n",
       "    </tr>\n",
       "  </tbody>\n",
       "</table>\n",
       "</div>"
      ],
      "text/plain": [
       "   PassengerId  Survived  Pclass  \\\n",
       "0            1         0       3   \n",
       "1            2         1       1   \n",
       "2            3         1       3   \n",
       "3            4         1       1   \n",
       "4            5         0       3   \n",
       "\n",
       "                                                Name     Sex   Age  SibSp  \\\n",
       "0                            Braund, Mr. Owen Harris    male  22.0      1   \n",
       "1  Cumings, Mrs. John Bradley (Florence Briggs Th...  female  38.0      1   \n",
       "2                             Heikkinen, Miss. Laina  female  26.0      0   \n",
       "3       Futrelle, Mrs. Jacques Heath (Lily May Peel)  female  35.0      1   \n",
       "4                           Allen, Mr. William Henry    male  35.0      0   \n",
       "\n",
       "   Parch            Ticket     Fare Cabin Embarked  \n",
       "0      0         A/5 21171   7.2500   NaN        S  \n",
       "1      0          PC 17599  71.2833   C85        C  \n",
       "2      0  STON/O2. 3101282   7.9250   NaN        S  \n",
       "3      0            113803  53.1000  C123        S  \n",
       "4      0            373450   8.0500   NaN        S  "
      ]
     },
     "execution_count": 2,
     "metadata": {},
     "output_type": "execute_result"
    }
   ],
   "source": [
    "#criando o DataFrame utilizando uma planilha csv\n",
    "df = pd.read_csv(\"titanic.csv\")\n",
    "\n",
    "df.head()"
   ]
  },
  {
   "cell_type": "code",
   "execution_count": 3,
   "metadata": {},
   "outputs": [
    {
     "name": "stdout",
     "output_type": "stream",
     "text": [
      "Probabilidade de sobreviver sendo homem: 19.0\n",
      "Probabilidade de sobreviver sendo mulher: 74.0\n"
     ]
    }
   ],
   "source": [
    "#Estudando a correlação entre as colunas survived e sex\n",
    "\n",
    "#Probabilidade de morrer pessoas do sexo masculino:\n",
    "prob_homem = df[(df.Survived==1) & ( df.Sex=='male')].shape[0] / df[df.Sex=='male'].shape[0]\n",
    "\n",
    "#Probabilidade de morrer pessoas do sexo feminino:\n",
    "prob_mulher = df[(df.Survived==1) & ( df.Sex=='female')].shape[0] / df[df.Sex=='female'].shape[0]\n",
    "\n",
    "#retornar as probabilidades\n",
    "print(\"Probabilidade de sobreviver sendo homem:\", (round(prob_homem,2)*100)) \n",
    "print(\"Probabilidade de sobreviver sendo mulher:\", (round(prob_mulher,2)*100))"
   ]
  },
  {
   "cell_type": "markdown",
   "metadata": {},
   "source": [
    "**Qual sua conclusão a partir dos dados acima?**\n",
    "Claramente, por algum motivo, existe uma correlação forte entre os dados de sobrevivência e sexo do passageiro.\n",
    "\n",
    "**Você vê algum indicativo de relação entre ter sobrevivido e o sexo?**\n",
    "Passageiros do sexo feminino tem maior chance de sobreviver do que o passageiro masculino."
   ]
  },
  {
   "cell_type": "code",
   "execution_count": 4,
   "metadata": {},
   "outputs": [
    {
     "data": {
      "text/html": [
       "<div>\n",
       "<style scoped>\n",
       "    .dataframe tbody tr th:only-of-type {\n",
       "        vertical-align: middle;\n",
       "    }\n",
       "\n",
       "    .dataframe tbody tr th {\n",
       "        vertical-align: top;\n",
       "    }\n",
       "\n",
       "    .dataframe thead th {\n",
       "        text-align: right;\n",
       "    }\n",
       "</style>\n",
       "<table border=\"1\" class=\"dataframe\">\n",
       "  <thead>\n",
       "    <tr style=\"text-align: right;\">\n",
       "      <th></th>\n",
       "      <th>0</th>\n",
       "      <th>1</th>\n",
       "    </tr>\n",
       "    <tr>\n",
       "      <th>Sex</th>\n",
       "      <th></th>\n",
       "      <th></th>\n",
       "    </tr>\n",
       "  </thead>\n",
       "  <tbody>\n",
       "    <tr>\n",
       "      <th>female</th>\n",
       "      <td>81</td>\n",
       "      <td>233</td>\n",
       "    </tr>\n",
       "    <tr>\n",
       "      <th>male</th>\n",
       "      <td>468</td>\n",
       "      <td>109</td>\n",
       "    </tr>\n",
       "  </tbody>\n",
       "</table>\n",
       "</div>"
      ],
      "text/plain": [
       "          0    1\n",
       "Sex             \n",
       "female   81  233\n",
       "male    468  109"
      ]
     },
     "execution_count": 4,
     "metadata": {},
     "output_type": "execute_result"
    }
   ],
   "source": [
    "# Usando o código abaixo você consegue obter a quantidade de mulheres e homens que sobreviveram (1) e morreram (0)\n",
    "# Gera tabela de frequencia absoluta!\n",
    "\n",
    "df.groupby(['Sex']).apply(lambda x: x.Survived.value_counts()).unstack()"
   ]
  },
  {
   "cell_type": "code",
   "execution_count": 5,
   "metadata": {},
   "outputs": [
    {
     "data": {
      "text/html": [
       "<div>\n",
       "<style scoped>\n",
       "    .dataframe tbody tr th:only-of-type {\n",
       "        vertical-align: middle;\n",
       "    }\n",
       "\n",
       "    .dataframe tbody tr th {\n",
       "        vertical-align: top;\n",
       "    }\n",
       "\n",
       "    .dataframe thead th {\n",
       "        text-align: right;\n",
       "    }\n",
       "</style>\n",
       "<table border=\"1\" class=\"dataframe\">\n",
       "  <thead>\n",
       "    <tr style=\"text-align: right;\">\n",
       "      <th></th>\n",
       "      <th>0</th>\n",
       "      <th>1</th>\n",
       "    </tr>\n",
       "    <tr>\n",
       "      <th>Sex</th>\n",
       "      <th></th>\n",
       "      <th></th>\n",
       "    </tr>\n",
       "  </thead>\n",
       "  <tbody>\n",
       "    <tr>\n",
       "      <th>female</th>\n",
       "      <td>0.257962</td>\n",
       "      <td>0.742038</td>\n",
       "    </tr>\n",
       "    <tr>\n",
       "      <th>male</th>\n",
       "      <td>0.811092</td>\n",
       "      <td>0.188908</td>\n",
       "    </tr>\n",
       "  </tbody>\n",
       "</table>\n",
       "</div>"
      ],
      "text/plain": [
       "               0         1\n",
       "Sex                       \n",
       "female  0.257962  0.742038\n",
       "male    0.811092  0.188908"
      ]
     },
     "execution_count": 5,
     "metadata": {},
     "output_type": "execute_result"
    }
   ],
   "source": [
    "# Com uma simples modificação no código acima você passa a ter os valores em percentual\n",
    "# Gera tabela de frequencia relativa!\n",
    "\n",
    "df.groupby('Sex').apply(lambda x: x.Survived.value_counts()/x.shape[0]).unstack()"
   ]
  },
  {
   "cell_type": "code",
   "execution_count": 6,
   "metadata": {},
   "outputs": [
    {
     "data": {
      "image/png": "[encoded data removed]",
      "text/plain": [
       "<Figure size 432x288 with 1 Axes>"
      ]
     },
     "metadata": {
      "needs_background": "light"
     },
     "output_type": "display_data"
    },
    {
     "data": {
      "image/png": "[encoded data removed]",
      "text/plain": [
       "<Figure size 432x288 with 1 Axes>"
      ]
     },
     "metadata": {
      "needs_background": "light"
     },
     "output_type": "display_data"
    }
   ],
   "source": [
    "#Gráfico\n",
    "\n",
    "#1. Criação das variáveis que armazenarão os DataFrames que servirão de base para construção dos gráficos:\n",
    "#1.1 df que demonstra e relaciona em frequencia absoluta a relação entre sobreviventes e sexo\n",
    "df_sex = df.groupby('Sex').apply(lambda x: x.Survived.value_counts()).unstack()\n",
    "\n",
    "#1.2 df que demonstra e relaciona em frequencia relativa a relação entre sobreviventes e sexo\n",
    "df_sex_prob = df.groupby('Sex').apply(lambda x: x.Survived.value_counts()/x.shape[0]).unstack()\n",
    "\n",
    "#2. Construção dos rotulos do gráfico (male, female - eixo x ; morreram, sobreviveram - eixo y)\n",
    "labels = list(df_sex.index) #labels do gráfico de barras\n",
    "\n",
    "#3. Retorna os valores do df para serem utilizados no gráfico\n",
    "#3.1 Valores absolutos\n",
    "morreram = df_sex[0].values #valores para construção do grafico de barras, lembrando (0) = morreram\n",
    "sobreviveram = df_sex[1].values #valores para construção do grafico de barras, lembrando (1) = sobreviveram\n",
    "\n",
    "#3.2 Valores relativos\n",
    "morreram_prob = df_sex_prob[0].values #valores para construção do grafico de barras\n",
    "sobreviveram_prob= df_sex_prob[1].values #valores para construção do grafico de barras\n",
    "\n",
    "# Essa linha do código não ficou claro para mim (?)\n",
    "x = np.arange(len(labels))  #localização dos labels\n",
    "\n",
    "# Definindo a largura das barras\n",
    "width = 0.40  \n",
    "\n",
    "#Construção do primeiro gráfico:\n",
    "fig, ax = plt.subplots() #construção do frame, criando figura e eixos\n",
    "\n",
    "rects1 = ax.bar(x - width/2, morreram, width, label='Morreram') #valores para construção do gráfico de barras\n",
    "rects2 = ax.bar(x + width/2, sobreviveram, width, label='Sobreviveram')\n",
    "\n",
    "# Adicona título no gráfico, legenda nos eixos e no gráfico legenda\n",
    "ax.set_ylabel('Frequência') #legenda eixo y\n",
    "ax.set_title('Distribuição da Sobrevivência por Sexo') #titulo\n",
    "ax.set_xticks(x) #seta a posição dos labels\n",
    "ax.set_xticklabels(labels) # legenda dos labels do eixo x\n",
    "ax.legend() #função para adicionar as legendas do gráfico\n",
    "plt.show() #função para mostrar o gráfico\n",
    "\n",
    "#Construção do segundo gráfico:\n",
    "fig, ax1 = plt.subplots()\n",
    "rects3 = ax1.bar(x - width/2, morreram_prob, width, label='Morreram')\n",
    "rects4 = ax1.bar(x + width/2, sobreviveram_prob, width, label='Sobreviveram')\n",
    "\n",
    "ax1.set_ylabel('%')\n",
    "ax1.set_title('Distribuição percentual da Sobrevivência por sexo')\n",
    "ax1.set_xticks(x)\n",
    "ax1.set_xticklabels(labels)\n",
    "ax1.legend()\n",
    "plt.show()"
   ]
  },
  {
   "cell_type": "markdown",
   "metadata": {},
   "source": [
    "**Qual conclusão você reforça com esses gráficos?**\n",
    "Que pessoas do sexo feminino tiveram mais chance de sobreviver do que pessoas do sexo masculino."
   ]
  },
  {
   "cell_type": "markdown",
   "metadata": {},
   "source": [
    "#### Calcular o chi-quadrado"
   ]
  },
  {
   "cell_type": "code",
   "execution_count": 7,
   "metadata": {},
   "outputs": [
    {
     "data": {
      "text/html": [
       "<div>\n",
       "<style scoped>\n",
       "    .dataframe tbody tr th:only-of-type {\n",
       "        vertical-align: middle;\n",
       "    }\n",
       "\n",
       "    .dataframe tbody tr th {\n",
       "        vertical-align: top;\n",
       "    }\n",
       "\n",
       "    .dataframe thead th {\n",
       "        text-align: right;\n",
       "    }\n",
       "</style>\n",
       "<table border=\"1\" class=\"dataframe\">\n",
       "  <thead>\n",
       "    <tr style=\"text-align: right;\">\n",
       "      <th></th>\n",
       "      <th>Survived</th>\n",
       "    </tr>\n",
       "  </thead>\n",
       "  <tbody>\n",
       "    <tr>\n",
       "      <th>0</th>\n",
       "      <td>0.62</td>\n",
       "    </tr>\n",
       "    <tr>\n",
       "      <th>1</th>\n",
       "      <td>0.38</td>\n",
       "    </tr>\n",
       "  </tbody>\n",
       "</table>\n",
       "</div>"
      ],
      "text/plain": [
       "   Survived\n",
       "0      0.62\n",
       "1      0.38"
      ]
     },
     "execution_count": 7,
     "metadata": {},
     "output_type": "execute_result"
    }
   ],
   "source": [
    "# 1) Distribuição geral da variável survived como já observado antes:\n",
    "\n",
    "dist_geral = pd.DataFrame(round(df.Survived.value_counts()/df.shape[0],2))\n",
    "\n",
    "dist_geral"
   ]
  },
  {
   "cell_type": "code",
   "execution_count": 8,
   "metadata": {},
   "outputs": [
    {
     "data": {
      "text/html": [
       "<div>\n",
       "<style scoped>\n",
       "    .dataframe tbody tr th:only-of-type {\n",
       "        vertical-align: middle;\n",
       "    }\n",
       "\n",
       "    .dataframe tbody tr th {\n",
       "        vertical-align: top;\n",
       "    }\n",
       "\n",
       "    .dataframe thead th {\n",
       "        text-align: right;\n",
       "    }\n",
       "</style>\n",
       "<table border=\"1\" class=\"dataframe\">\n",
       "  <thead>\n",
       "    <tr style=\"text-align: right;\">\n",
       "      <th></th>\n",
       "      <th>0</th>\n",
       "      <th>1</th>\n",
       "    </tr>\n",
       "    <tr>\n",
       "      <th>Sex</th>\n",
       "      <th></th>\n",
       "      <th></th>\n",
       "    </tr>\n",
       "  </thead>\n",
       "  <tbody>\n",
       "    <tr>\n",
       "      <th>female</th>\n",
       "      <td>0.257962</td>\n",
       "      <td>0.742038</td>\n",
       "    </tr>\n",
       "    <tr>\n",
       "      <th>male</th>\n",
       "      <td>0.811092</td>\n",
       "      <td>0.188908</td>\n",
       "    </tr>\n",
       "  </tbody>\n",
       "</table>\n",
       "</div>"
      ],
      "text/plain": [
       "               0         1\n",
       "Sex                       \n",
       "female  0.257962  0.742038\n",
       "male    0.811092  0.188908"
      ]
     },
     "execution_count": 8,
     "metadata": {},
     "output_type": "execute_result"
    }
   ],
   "source": [
    "# 2) Tabelas de frequencia absoluta e relativa:\n",
    "\n",
    "df_sex = df.groupby(['Sex']).apply(lambda x: x.Survived.value_counts()).unstack()\n",
    "\n",
    "df_sex_prob = df.groupby(['Sex']).apply(lambda x: x.Survived.value_counts()/x.shape[0]).unstack()\n",
    "\n",
    "df_sex_prob"
   ]
  },
  {
   "cell_type": "code",
   "execution_count": 9,
   "metadata": {},
   "outputs": [
    {
     "data": {
      "text/html": [
       "<div>\n",
       "<style scoped>\n",
       "    .dataframe tbody tr th:only-of-type {\n",
       "        vertical-align: middle;\n",
       "    }\n",
       "\n",
       "    .dataframe tbody tr th {\n",
       "        vertical-align: top;\n",
       "    }\n",
       "\n",
       "    .dataframe thead th {\n",
       "        text-align: right;\n",
       "    }\n",
       "</style>\n",
       "<table border=\"1\" class=\"dataframe\">\n",
       "  <thead>\n",
       "    <tr style=\"text-align: right;\">\n",
       "      <th></th>\n",
       "      <th>0</th>\n",
       "      <th>1</th>\n",
       "      <th>total</th>\n",
       "    </tr>\n",
       "    <tr>\n",
       "      <th>Sex</th>\n",
       "      <th></th>\n",
       "      <th></th>\n",
       "      <th></th>\n",
       "    </tr>\n",
       "  </thead>\n",
       "  <tbody>\n",
       "    <tr>\n",
       "      <th>female</th>\n",
       "      <td>81</td>\n",
       "      <td>233</td>\n",
       "      <td>314</td>\n",
       "    </tr>\n",
       "    <tr>\n",
       "      <th>male</th>\n",
       "      <td>468</td>\n",
       "      <td>109</td>\n",
       "      <td>577</td>\n",
       "    </tr>\n",
       "  </tbody>\n",
       "</table>\n",
       "</div>"
      ],
      "text/plain": [
       "          0    1  total\n",
       "Sex                    \n",
       "female   81  233    314\n",
       "male    468  109    577"
      ]
     },
     "execution_count": 9,
     "metadata": {},
     "output_type": "execute_result"
    }
   ],
   "source": [
    "# 3) Adicionar o total para cada sexo na tabela de frequência absoluta:\n",
    "# Aqui é criada a coluna total onde é somado os valores absolutos de homens e mulheres que morreram e sobreviveram\n",
    "df_sex['total'] = df_sex[[0]].values + df_sex[[1]].values \n",
    "\n",
    "df_sex"
   ]
  },
  {
   "cell_type": "code",
   "execution_count": 10,
   "metadata": {},
   "outputs": [
    {
     "data": {
      "text/html": [
       "<div>\n",
       "<style scoped>\n",
       "    .dataframe tbody tr th:only-of-type {\n",
       "        vertical-align: middle;\n",
       "    }\n",
       "\n",
       "    .dataframe tbody tr th {\n",
       "        vertical-align: top;\n",
       "    }\n",
       "\n",
       "    .dataframe thead th {\n",
       "        text-align: right;\n",
       "    }\n",
       "</style>\n",
       "<table border=\"1\" class=\"dataframe\">\n",
       "  <thead>\n",
       "    <tr style=\"text-align: right;\">\n",
       "      <th></th>\n",
       "      <th>0</th>\n",
       "      <th>1</th>\n",
       "    </tr>\n",
       "  </thead>\n",
       "  <tbody>\n",
       "    <tr>\n",
       "      <th>0</th>\n",
       "      <td>194.68</td>\n",
       "      <td>119.32</td>\n",
       "    </tr>\n",
       "    <tr>\n",
       "      <th>1</th>\n",
       "      <td>357.74</td>\n",
       "      <td>219.26</td>\n",
       "    </tr>\n",
       "  </tbody>\n",
       "</table>\n",
       "</div>"
      ],
      "text/plain": [
       "        0       1\n",
       "0  194.68  119.32\n",
       "1  357.74  219.26"
      ]
     },
     "execution_count": 10,
     "metadata": {},
     "output_type": "execute_result"
    }
   ],
   "source": [
    "# 4) Tabela de frequência esperada:\n",
    "\n",
    "esp_0 = df_sex.total.values * dist_geral.iloc[0].values\n",
    "esp_1 = df_sex.total.values * dist_geral.iloc[1].values\n",
    "\n",
    "df_esp = pd.DataFrame(np.c_[esp_0,esp_1])\n",
    "\n",
    "df_esp"
   ]
  },
  {
   "cell_type": "code",
   "execution_count": 11,
   "metadata": {},
   "outputs": [
    {
     "name": "stdout",
     "output_type": "stream",
     "text": [
      "[[-113.68  113.68]\n",
      " [ 110.26 -110.26]]\n",
      "\n",
      "O chi-quadrado de Pearson é de: 264.11838848422303\n"
     ]
    }
   ],
   "source": [
    "# 5) Cálculo do chi-quadrado\n",
    "\n",
    "# calculo dos desvios:\n",
    "\n",
    "desvios = (df_sex.iloc[:,:2].values - df_esp.values)\n",
    "\n",
    "print(desvios)\n",
    "\n",
    "# calculo dos desvios ao quadrado:\n",
    "\n",
    "desvios_ao_quadaro = desvios**2\n",
    "\n",
    "# calculo do chi-quadrado:\n",
    "\n",
    "chi_quad = sum(sum(desvios_ao_quadaro/df_esp.values))\n",
    "\n",
    "print(\"\\nO chi-quadrado de Pearson é de:\", chi_quad)"
   ]
  },
  {
   "cell_type": "markdown",
   "metadata": {},
   "source": [
    "**O que significa o valor do chi-quadrado de Pearson?**, **Quais foram as suas conclusões?**\n",
    "\n",
    "Indica uma estreita relação entre as variáveis 'Survived' e 'Sex' naquele evento. "
   ]
  },
  {
   "cell_type": "markdown",
   "metadata": {},
   "source": [
    "**Ex3:** Use o dataframe df, carregado abaixo, onde  cada observação corresponde a uma reclamação feita \n",
    "pelo consumidor, para responder as perguntas abaixo:\n",
    "\n",
    "1 - Qual o número de reclamações por Estado?<br>\n",
    "2 - Qual a quantidade de reclamações por sexo?<br>\n",
    "3 - O tempo de resposta tem alguma correlação com a nota do consumidor?<br>\n",
    "4 - Proporção de reclamações registradas e não respondidas.<br>\n",
    "5 - Imagine que você é alguém responsável por monitorar a satisfação dos consumidores. Que outros tipos de pergunta e análises você entende que poderiam ser feitas? Acrescente mais duas perguntas feitas por você, bem como suas análises para responde-las. \n",
    "**Importante**: É interessante que as análises contenham gráficos. No dia-a-dia de um cientista, grande parte do  trabalho é analisar dados e gerar visualizações para apresentá-las.\n",
    "\n",
    "_fonte_ : https://dados.gov.br/dataset/reclamacoes-do-consumidor-gov-br1 (Nesse link estão os dicionário de dados, caso possua dúvidas sobre base)."
   ]
  },
  {
   "cell_type": "code",
   "execution_count": 12,
   "metadata": {
    "scrolled": true
   },
   "outputs": [
    {
     "data": {
      "text/html": [
       "<div>\n",
       "<style scoped>\n",
       "    .dataframe tbody tr th:only-of-type {\n",
       "        vertical-align: middle;\n",
       "    }\n",
       "\n",
       "    .dataframe tbody tr th {\n",
       "        vertical-align: top;\n",
       "    }\n",
       "\n",
       "    .dataframe thead th {\n",
       "        text-align: right;\n",
       "    }\n",
       "</style>\n",
       "<table border=\"1\" class=\"dataframe\">\n",
       "  <thead>\n",
       "    <tr style=\"text-align: right;\">\n",
       "      <th></th>\n",
       "      <th>Gestor</th>\n",
       "      <th>Canal de Origem</th>\n",
       "      <th>Região</th>\n",
       "      <th>UF</th>\n",
       "      <th>Cidade</th>\n",
       "      <th>Sexo</th>\n",
       "      <th>Faixa Etária</th>\n",
       "      <th>Ano Abertura</th>\n",
       "      <th>Mês Abertura</th>\n",
       "      <th>Data Abertura</th>\n",
       "      <th>...</th>\n",
       "      <th>Como Comprou Contratou</th>\n",
       "      <th>Procurou Empresa</th>\n",
       "      <th>Respondida</th>\n",
       "      <th>Situação</th>\n",
       "      <th>Avaliação Reclamação</th>\n",
       "      <th>Nota do Consumidor</th>\n",
       "      <th>Análise da Recusa</th>\n",
       "      <th>Edição de Conteúdo</th>\n",
       "      <th>Interação do Gestor</th>\n",
       "      <th>Total</th>\n",
       "    </tr>\n",
       "  </thead>\n",
       "  <tbody>\n",
       "    <tr>\n",
       "      <th>0</th>\n",
       "      <td>Secretaria Nacional do Consumidor</td>\n",
       "      <td>Não identificado</td>\n",
       "      <td>SE</td>\n",
       "      <td>RJ</td>\n",
       "      <td>Itaboraí</td>\n",
       "      <td>M</td>\n",
       "      <td>entre 31 a 40 anos</td>\n",
       "      <td>2014</td>\n",
       "      <td>6</td>\n",
       "      <td>27/06/2014</td>\n",
       "      <td>...</td>\n",
       "      <td>Não comprei / contratei</td>\n",
       "      <td>S</td>\n",
       "      <td>S</td>\n",
       "      <td>Finalizada não avaliada</td>\n",
       "      <td>Não Avaliada</td>\n",
       "      <td>NaN</td>\n",
       "      <td>NaN</td>\n",
       "      <td>N</td>\n",
       "      <td>N</td>\n",
       "      <td>1</td>\n",
       "    </tr>\n",
       "    <tr>\n",
       "      <th>1</th>\n",
       "      <td>Instituto Estadual de Proteção e Defesa do Con...</td>\n",
       "      <td>Não identificado</td>\n",
       "      <td>SE</td>\n",
       "      <td>ES</td>\n",
       "      <td>Serra</td>\n",
       "      <td>F</td>\n",
       "      <td>entre 31 a 40 anos</td>\n",
       "      <td>2014</td>\n",
       "      <td>6</td>\n",
       "      <td>11/06/2014</td>\n",
       "      <td>...</td>\n",
       "      <td>Internet</td>\n",
       "      <td>S</td>\n",
       "      <td>S</td>\n",
       "      <td>Finalizada avaliada</td>\n",
       "      <td>Não Resolvida</td>\n",
       "      <td>1.0</td>\n",
       "      <td>NaN</td>\n",
       "      <td>N</td>\n",
       "      <td>N</td>\n",
       "      <td>1</td>\n",
       "    </tr>\n",
       "    <tr>\n",
       "      <th>2</th>\n",
       "      <td>Secretaria Nacional do Consumidor</td>\n",
       "      <td>Não identificado</td>\n",
       "      <td>SE</td>\n",
       "      <td>RJ</td>\n",
       "      <td>Volta Redonda</td>\n",
       "      <td>M</td>\n",
       "      <td>entre 31 a 40 anos</td>\n",
       "      <td>2014</td>\n",
       "      <td>6</td>\n",
       "      <td>27/06/2014</td>\n",
       "      <td>...</td>\n",
       "      <td>Internet</td>\n",
       "      <td>S</td>\n",
       "      <td>S</td>\n",
       "      <td>Finalizada avaliada</td>\n",
       "      <td>Resolvida</td>\n",
       "      <td>5.0</td>\n",
       "      <td>NaN</td>\n",
       "      <td>N</td>\n",
       "      <td>N</td>\n",
       "      <td>1</td>\n",
       "    </tr>\n",
       "    <tr>\n",
       "      <th>3</th>\n",
       "      <td>Instituto de Promoção e Defesa do Cidadão e Co...</td>\n",
       "      <td>Não identificado</td>\n",
       "      <td>NE</td>\n",
       "      <td>MA</td>\n",
       "      <td>São Luís</td>\n",
       "      <td>F</td>\n",
       "      <td>entre 31 a 40 anos</td>\n",
       "      <td>2014</td>\n",
       "      <td>5</td>\n",
       "      <td>29/05/2014</td>\n",
       "      <td>...</td>\n",
       "      <td>Não comprei / contratei</td>\n",
       "      <td>S</td>\n",
       "      <td>S</td>\n",
       "      <td>Finalizada avaliada</td>\n",
       "      <td>Resolvida</td>\n",
       "      <td>5.0</td>\n",
       "      <td>NaN</td>\n",
       "      <td>N</td>\n",
       "      <td>N</td>\n",
       "      <td>1</td>\n",
       "    </tr>\n",
       "    <tr>\n",
       "      <th>4</th>\n",
       "      <td>Secretaria de Desenvolvimento Social e Direito...</td>\n",
       "      <td>Não identificado</td>\n",
       "      <td>NE</td>\n",
       "      <td>PE</td>\n",
       "      <td>Recife</td>\n",
       "      <td>M</td>\n",
       "      <td>entre 21 a 30 anos</td>\n",
       "      <td>2014</td>\n",
       "      <td>6</td>\n",
       "      <td>30/06/2014</td>\n",
       "      <td>...</td>\n",
       "      <td>Internet</td>\n",
       "      <td>S</td>\n",
       "      <td>S</td>\n",
       "      <td>Finalizada não avaliada</td>\n",
       "      <td>Não Avaliada</td>\n",
       "      <td>NaN</td>\n",
       "      <td>NaN</td>\n",
       "      <td>N</td>\n",
       "      <td>N</td>\n",
       "      <td>1</td>\n",
       "    </tr>\n",
       "  </tbody>\n",
       "</table>\n",
       "<p>5 rows × 38 columns</p>\n",
       "</div>"
      ],
      "text/plain": [
       "                                              Gestor   Canal de Origem Região  \\\n",
       "0                  Secretaria Nacional do Consumidor  Não identificado     SE   \n",
       "1  Instituto Estadual de Proteção e Defesa do Con...  Não identificado     SE   \n",
       "2                  Secretaria Nacional do Consumidor  Não identificado     SE   \n",
       "3  Instituto de Promoção e Defesa do Cidadão e Co...  Não identificado     NE   \n",
       "4  Secretaria de Desenvolvimento Social e Direito...  Não identificado     NE   \n",
       "\n",
       "   UF         Cidade Sexo        Faixa Etária  Ano Abertura  Mês Abertura  \\\n",
       "0  RJ       Itaboraí    M  entre 31 a 40 anos          2014             6   \n",
       "1  ES          Serra    F  entre 31 a 40 anos          2014             6   \n",
       "2  RJ  Volta Redonda    M  entre 31 a 40 anos          2014             6   \n",
       "3  MA       São Luís    F  entre 31 a 40 anos          2014             5   \n",
       "4  PE         Recife    M  entre 21 a 30 anos          2014             6   \n",
       "\n",
       "  Data Abertura  ...   Como Comprou Contratou Procurou Empresa Respondida  \\\n",
       "0    27/06/2014  ...  Não comprei / contratei                S          S   \n",
       "1    11/06/2014  ...                 Internet                S          S   \n",
       "2    27/06/2014  ...                 Internet                S          S   \n",
       "3    29/05/2014  ...  Não comprei / contratei                S          S   \n",
       "4    30/06/2014  ...                 Internet                S          S   \n",
       "\n",
       "                  Situação Avaliação Reclamação Nota do Consumidor  \\\n",
       "0  Finalizada não avaliada         Não Avaliada                NaN   \n",
       "1      Finalizada avaliada        Não Resolvida                1.0   \n",
       "2      Finalizada avaliada            Resolvida                5.0   \n",
       "3      Finalizada avaliada            Resolvida                5.0   \n",
       "4  Finalizada não avaliada         Não Avaliada                NaN   \n",
       "\n",
       "  Análise da Recusa Edição de Conteúdo Interação do Gestor Total  \n",
       "0               NaN                  N                   N     1  \n",
       "1               NaN                  N                   N     1  \n",
       "2               NaN                  N                   N     1  \n",
       "3               NaN                  N                   N     1  \n",
       "4               NaN                  N                   N     1  \n",
       "\n",
       "[5 rows x 38 columns]"
      ]
     },
     "execution_count": 12,
     "metadata": {},
     "output_type": "execute_result"
    }
   ],
   "source": [
    "df = pd.read_csv(\"dadosgovbr---2014.csv\",sep = ';', encoding=\"latin-1\")\n",
    "\n",
    "df.head()"
   ]
  },
  {
   "cell_type": "code",
   "execution_count": 13,
   "metadata": {},
   "outputs": [
    {
     "data": {
      "text/plain": [
       "(43987, 38)"
      ]
     },
     "execution_count": 13,
     "metadata": {},
     "output_type": "execute_result"
    }
   ],
   "source": [
    "df.shape"
   ]
  },
  {
   "cell_type": "code",
   "execution_count": 14,
   "metadata": {},
   "outputs": [
    {
     "data": {
      "text/plain": [
       "Gestor                     object\n",
       "Canal de Origem            object\n",
       "Região                     object\n",
       "UF                         object\n",
       "Cidade                     object\n",
       "Sexo                       object\n",
       "Faixa Etária               object\n",
       "Ano Abertura                int64\n",
       "Mês Abertura                int64\n",
       "Data Abertura              object\n",
       "Hora Abertura              object\n",
       "Data Resposta              object\n",
       "Hora Resposta              object\n",
       "Data Análise               object\n",
       "Hora Análise               object\n",
       "Data Recusa                object\n",
       "Hora Recusa                object\n",
       "Data Finalização           object\n",
       "Hora Finalização           object\n",
       "Prazo Resposta             object\n",
       "Prazo Analise Gestor      float64\n",
       "Tempo Resposta            float64\n",
       "Nome Fantasia              object\n",
       "Segmento de Mercado        object\n",
       "Área                       object\n",
       "Assunto                    object\n",
       "Grupo Problema             object\n",
       "Problema                   object\n",
       "Como Comprou Contratou     object\n",
       "Procurou Empresa           object\n",
       "Respondida                 object\n",
       "Situação                   object\n",
       "Avaliação Reclamação       object\n",
       "Nota do Consumidor        float64\n",
       "Análise da Recusa          object\n",
       "Edição de Conteúdo         object\n",
       "Interação do Gestor        object\n",
       "Total                       int64\n",
       "dtype: object"
      ]
     },
     "execution_count": 14,
     "metadata": {},
     "output_type": "execute_result"
    }
   ],
   "source": [
    "df.dtypes"
   ]
  },
  {
   "cell_type": "code",
   "execution_count": 15,
   "metadata": {},
   "outputs": [
    {
     "data": {
      "text/html": [
       "<div>\n",
       "<style scoped>\n",
       "    .dataframe tbody tr th:only-of-type {\n",
       "        vertical-align: middle;\n",
       "    }\n",
       "\n",
       "    .dataframe tbody tr th {\n",
       "        vertical-align: top;\n",
       "    }\n",
       "\n",
       "    .dataframe thead th {\n",
       "        text-align: right;\n",
       "    }\n",
       "</style>\n",
       "<table border=\"1\" class=\"dataframe\">\n",
       "  <thead>\n",
       "    <tr style=\"text-align: right;\">\n",
       "      <th></th>\n",
       "      <th>Ano Abertura</th>\n",
       "      <th>Mês Abertura</th>\n",
       "      <th>Prazo Analise Gestor</th>\n",
       "      <th>Tempo Resposta</th>\n",
       "      <th>Nota do Consumidor</th>\n",
       "      <th>Total</th>\n",
       "    </tr>\n",
       "  </thead>\n",
       "  <tbody>\n",
       "    <tr>\n",
       "      <th>count</th>\n",
       "      <td>43987.0</td>\n",
       "      <td>43987.000000</td>\n",
       "      <td>1953.000000</td>\n",
       "      <td>41961.000000</td>\n",
       "      <td>28627.000000</td>\n",
       "      <td>43987.0</td>\n",
       "    </tr>\n",
       "    <tr>\n",
       "      <th>mean</th>\n",
       "      <td>2014.0</td>\n",
       "      <td>9.550435</td>\n",
       "      <td>4.768049</td>\n",
       "      <td>6.667572</td>\n",
       "      <td>3.007021</td>\n",
       "      <td>1.0</td>\n",
       "    </tr>\n",
       "    <tr>\n",
       "      <th>std</th>\n",
       "      <td>0.0</td>\n",
       "      <td>1.898572</td>\n",
       "      <td>4.395177</td>\n",
       "      <td>3.066805</td>\n",
       "      <td>1.681700</td>\n",
       "      <td>0.0</td>\n",
       "    </tr>\n",
       "    <tr>\n",
       "      <th>min</th>\n",
       "      <td>2014.0</td>\n",
       "      <td>5.000000</td>\n",
       "      <td>0.000000</td>\n",
       "      <td>0.000000</td>\n",
       "      <td>1.000000</td>\n",
       "      <td>1.0</td>\n",
       "    </tr>\n",
       "    <tr>\n",
       "      <th>25%</th>\n",
       "      <td>2014.0</td>\n",
       "      <td>8.000000</td>\n",
       "      <td>1.000000</td>\n",
       "      <td>4.000000</td>\n",
       "      <td>1.000000</td>\n",
       "      <td>1.0</td>\n",
       "    </tr>\n",
       "    <tr>\n",
       "      <th>50%</th>\n",
       "      <td>2014.0</td>\n",
       "      <td>10.000000</td>\n",
       "      <td>4.000000</td>\n",
       "      <td>8.000000</td>\n",
       "      <td>3.000000</td>\n",
       "      <td>1.0</td>\n",
       "    </tr>\n",
       "    <tr>\n",
       "      <th>75%</th>\n",
       "      <td>2014.0</td>\n",
       "      <td>11.000000</td>\n",
       "      <td>8.000000</td>\n",
       "      <td>9.000000</td>\n",
       "      <td>5.000000</td>\n",
       "      <td>1.0</td>\n",
       "    </tr>\n",
       "    <tr>\n",
       "      <th>max</th>\n",
       "      <td>2014.0</td>\n",
       "      <td>12.000000</td>\n",
       "      <td>15.000000</td>\n",
       "      <td>13.000000</td>\n",
       "      <td>5.000000</td>\n",
       "      <td>1.0</td>\n",
       "    </tr>\n",
       "  </tbody>\n",
       "</table>\n",
       "</div>"
      ],
      "text/plain": [
       "       Ano Abertura  Mês Abertura  Prazo Analise Gestor  Tempo Resposta  \\\n",
       "count       43987.0  43987.000000           1953.000000    41961.000000   \n",
       "mean         2014.0      9.550435              4.768049        6.667572   \n",
       "std             0.0      1.898572              4.395177        3.066805   \n",
       "min          2014.0      5.000000              0.000000        0.000000   \n",
       "25%          2014.0      8.000000              1.000000        4.000000   \n",
       "50%          2014.0     10.000000              4.000000        8.000000   \n",
       "75%          2014.0     11.000000              8.000000        9.000000   \n",
       "max          2014.0     12.000000             15.000000       13.000000   \n",
       "\n",
       "       Nota do Consumidor    Total  \n",
       "count        28627.000000  43987.0  \n",
       "mean             3.007021      1.0  \n",
       "std              1.681700      0.0  \n",
       "min              1.000000      1.0  \n",
       "25%              1.000000      1.0  \n",
       "50%              3.000000      1.0  \n",
       "75%              5.000000      1.0  \n",
       "max              5.000000      1.0  "
      ]
     },
     "execution_count": 15,
     "metadata": {},
     "output_type": "execute_result"
    }
   ],
   "source": [
    "df.describe()"
   ]
  },
  {
   "cell_type": "code",
   "execution_count": 16,
   "metadata": {},
   "outputs": [
    {
     "name": "stdout",
     "output_type": "stream",
     "text": [
      "Total de reclamações: 43987\n",
      "\n",
      "Total de informação nula na base: 275157\n",
      "\n",
      "Total de nulos por variável:\n",
      " Data Análise            42034\n",
      "Hora Análise            42034\n",
      "Prazo Analise Gestor    42034\n",
      "Análise da Recusa       41941\n",
      "Data Recusa             41921\n",
      "Hora Recusa             41921\n",
      "Nota do Consumidor      15360\n",
      "Data Resposta            2026\n",
      "Hora Resposta            2026\n",
      "Tempo Resposta           2026\n",
      "Avaliação Reclamação     1834\n",
      "dtype: int64\n",
      "\n",
      "Total de linhas completamente preenchidas: 163\n"
     ]
    }
   ],
   "source": [
    "# Avaliar o que são os nulos com a área responsável pela base / técnicas de preenchimento\n",
    "\n",
    "print(\"Total de reclamações:\", df.Total.count())\n",
    "print(\"\\nTotal de informação nula na base:\",df.isnull().sum().sum())\n",
    "print(\"\\nTotal de nulos por variável:\\n\",df.isnull().sum()[df.isnull().sum()>0].sort_values(ascending= False))\n",
    "print(\"\\nTotal de linhas completamente preenchidas:\", df.dropna().shape[0])"
   ]
  },
  {
   "cell_type": "markdown",
   "metadata": {},
   "source": [
    "**1 - Qual o número de reclamações por Estado?**"
   ]
  },
  {
   "cell_type": "code",
   "execution_count": 17,
   "metadata": {},
   "outputs": [
    {
     "data": {
      "text/plain": [
       "0"
      ]
     },
     "execution_count": 17,
     "metadata": {},
     "output_type": "execute_result"
    }
   ],
   "source": [
    "#Verificando o número de dados nulos na coluna UF\n",
    "df['UF'].isnull().sum()"
   ]
  },
  {
   "cell_type": "code",
   "execution_count": 18,
   "metadata": {},
   "outputs": [
    {
     "data": {
      "text/plain": [
       "Total  UF\n",
       "1      AC      449\n",
       "       AL      104\n",
       "       AM      291\n",
       "       AP       18\n",
       "       BA     2443\n",
       "       CE     1068\n",
       "       DF     1805\n",
       "       ES     1081\n",
       "       GO      886\n",
       "       MA     1082\n",
       "       MG     4186\n",
       "       MS      531\n",
       "       MT     1012\n",
       "       PA      211\n",
       "       PB      343\n",
       "       PE     1626\n",
       "       PI       77\n",
       "       PR     6140\n",
       "       RJ     4907\n",
       "       RN      160\n",
       "       RO      119\n",
       "       RR       24\n",
       "       RS     1941\n",
       "       SC     1458\n",
       "       SE       97\n",
       "       SP    11882\n",
       "       TO       46\n",
       "dtype: int64"
      ]
     },
     "execution_count": 18,
     "metadata": {},
     "output_type": "execute_result"
    }
   ],
   "source": [
    "#Número de reclamações por UF\n",
    "df.groupby(['UF']).apply(lambda x: x.Total.value_counts()).unstack()"
   ]
  },
  {
   "cell_type": "markdown",
   "metadata": {},
   "source": [
    "**2 - Qual a quantidade de reclamações por sexo?**"
   ]
  },
  {
   "cell_type": "code",
   "execution_count": 19,
   "metadata": {},
   "outputs": [
    {
     "data": {
      "text/plain": [
       "0"
      ]
     },
     "execution_count": 19,
     "metadata": {},
     "output_type": "execute_result"
    }
   ],
   "source": [
    "#Verificando o número de dados nulos na coluna sexo\n",
    "df['Sexo'].isnull().sum()"
   ]
  },
  {
   "cell_type": "code",
   "execution_count": 20,
   "metadata": {},
   "outputs": [
    {
     "data": {
      "text/plain": [
       "Total  Sexo\n",
       "1      F       16092\n",
       "       M       27895\n",
       "dtype: int64"
      ]
     },
     "execution_count": 20,
     "metadata": {},
     "output_type": "execute_result"
    }
   ],
   "source": [
    "#Número de reclamações por sexo\n",
    "df.groupby(['Sexo']).apply(lambda x: x.Total.value_counts()).unstack()"
   ]
  },
  {
   "cell_type": "markdown",
   "metadata": {},
   "source": [
    "**3 - O tempo de resposta tem alguma correlação com a nota do consumidor?**"
   ]
  },
  {
   "cell_type": "code",
   "execution_count": 21,
   "metadata": {},
   "outputs": [],
   "source": [
    "#Renomeando as colunas para não ter problema na utilização das fórmulas\n",
    "df.rename(columns = {\"Nota do Consumidor\":\"NotaConsumidor\",\"Tempo Resposta\":\"TempoResposta\"}, inplace= True)"
   ]
  },
  {
   "cell_type": "code",
   "execution_count": 22,
   "metadata": {},
   "outputs": [
    {
     "data": {
      "text/html": [
       "<div>\n",
       "<style scoped>\n",
       "    .dataframe tbody tr th:only-of-type {\n",
       "        vertical-align: middle;\n",
       "    }\n",
       "\n",
       "    .dataframe tbody tr th {\n",
       "        vertical-align: top;\n",
       "    }\n",
       "\n",
       "    .dataframe thead th {\n",
       "        text-align: right;\n",
       "    }\n",
       "</style>\n",
       "<table border=\"1\" class=\"dataframe\">\n",
       "  <thead>\n",
       "    <tr style=\"text-align: right;\">\n",
       "      <th></th>\n",
       "      <th>NotaConsumidor</th>\n",
       "      <th>TempoResposta</th>\n",
       "    </tr>\n",
       "  </thead>\n",
       "  <tbody>\n",
       "    <tr>\n",
       "      <th>0</th>\n",
       "      <td>NaN</td>\n",
       "      <td>5.0</td>\n",
       "    </tr>\n",
       "    <tr>\n",
       "      <th>1</th>\n",
       "      <td>1.0</td>\n",
       "      <td>6.0</td>\n",
       "    </tr>\n",
       "    <tr>\n",
       "      <th>2</th>\n",
       "      <td>5.0</td>\n",
       "      <td>5.0</td>\n",
       "    </tr>\n",
       "    <tr>\n",
       "      <th>3</th>\n",
       "      <td>5.0</td>\n",
       "      <td>0.0</td>\n",
       "    </tr>\n",
       "    <tr>\n",
       "      <th>4</th>\n",
       "      <td>NaN</td>\n",
       "      <td>1.0</td>\n",
       "    </tr>\n",
       "    <tr>\n",
       "      <th>...</th>\n",
       "      <td>...</td>\n",
       "      <td>...</td>\n",
       "    </tr>\n",
       "    <tr>\n",
       "      <th>43982</th>\n",
       "      <td>NaN</td>\n",
       "      <td>10.0</td>\n",
       "    </tr>\n",
       "    <tr>\n",
       "      <th>43983</th>\n",
       "      <td>1.0</td>\n",
       "      <td>5.0</td>\n",
       "    </tr>\n",
       "    <tr>\n",
       "      <th>43984</th>\n",
       "      <td>1.0</td>\n",
       "      <td>3.0</td>\n",
       "    </tr>\n",
       "    <tr>\n",
       "      <th>43985</th>\n",
       "      <td>NaN</td>\n",
       "      <td>8.0</td>\n",
       "    </tr>\n",
       "    <tr>\n",
       "      <th>43986</th>\n",
       "      <td>3.0</td>\n",
       "      <td>0.0</td>\n",
       "    </tr>\n",
       "  </tbody>\n",
       "</table>\n",
       "<p>43987 rows × 2 columns</p>\n",
       "</div>"
      ],
      "text/plain": [
       "       NotaConsumidor  TempoResposta\n",
       "0                 NaN            5.0\n",
       "1                 1.0            6.0\n",
       "2                 5.0            5.0\n",
       "3                 5.0            0.0\n",
       "4                 NaN            1.0\n",
       "...               ...            ...\n",
       "43982             NaN           10.0\n",
       "43983             1.0            5.0\n",
       "43984             1.0            3.0\n",
       "43985             NaN            8.0\n",
       "43986             3.0            0.0\n",
       "\n",
       "[43987 rows x 2 columns]"
      ]
     },
     "execution_count": 22,
     "metadata": {},
     "output_type": "execute_result"
    }
   ],
   "source": [
    "#todas as linhas e apenas duas colunas \n",
    "dados = df.loc[:, [\"NotaConsumidor\",\"TempoResposta\"]]\n",
    "dados"
   ]
  },
  {
   "cell_type": "code",
   "execution_count": 23,
   "metadata": {},
   "outputs": [],
   "source": [
    "#análise de frequência relativa - Nota do Consumidor x Tempo Resposta\n",
    "df_analise = df.groupby(['NotaConsumidor']).apply(lambda x: (x.TempoResposta.value_counts()/x.shape[0])*100).unstack().round(2)"
   ]
  },
  {
   "cell_type": "code",
   "execution_count": 24,
   "metadata": {},
   "outputs": [
    {
     "data": {
      "text/html": [
       "<div>\n",
       "<style scoped>\n",
       "    .dataframe tbody tr th:only-of-type {\n",
       "        vertical-align: middle;\n",
       "    }\n",
       "\n",
       "    .dataframe tbody tr th {\n",
       "        vertical-align: top;\n",
       "    }\n",
       "\n",
       "    .dataframe thead th {\n",
       "        text-align: right;\n",
       "    }\n",
       "</style>\n",
       "<table border=\"1\" class=\"dataframe\">\n",
       "  <thead>\n",
       "    <tr style=\"text-align: right;\">\n",
       "      <th></th>\n",
       "      <th>0.0</th>\n",
       "      <th>1.0</th>\n",
       "      <th>2.0</th>\n",
       "      <th>3.0</th>\n",
       "      <th>4.0</th>\n",
       "      <th>5.0</th>\n",
       "      <th>6.0</th>\n",
       "      <th>7.0</th>\n",
       "      <th>8.0</th>\n",
       "      <th>9.0</th>\n",
       "      <th>10.0</th>\n",
       "      <th>11.0</th>\n",
       "      <th>12.0</th>\n",
       "      <th>13.0</th>\n",
       "    </tr>\n",
       "    <tr>\n",
       "      <th>NotaConsumidor</th>\n",
       "      <th></th>\n",
       "      <th></th>\n",
       "      <th></th>\n",
       "      <th></th>\n",
       "      <th></th>\n",
       "      <th></th>\n",
       "      <th></th>\n",
       "      <th></th>\n",
       "      <th></th>\n",
       "      <th></th>\n",
       "      <th></th>\n",
       "      <th></th>\n",
       "      <th></th>\n",
       "      <th></th>\n",
       "    </tr>\n",
       "  </thead>\n",
       "  <tbody>\n",
       "    <tr>\n",
       "      <th>1.0</th>\n",
       "      <td>1.51</td>\n",
       "      <td>4.65</td>\n",
       "      <td>4.72</td>\n",
       "      <td>4.92</td>\n",
       "      <td>5.00</td>\n",
       "      <td>5.53</td>\n",
       "      <td>5.81</td>\n",
       "      <td>8.27</td>\n",
       "      <td>13.11</td>\n",
       "      <td>14.83</td>\n",
       "      <td>30.80</td>\n",
       "      <td>0.03</td>\n",
       "      <td>0.01</td>\n",
       "      <td>0.02</td>\n",
       "    </tr>\n",
       "    <tr>\n",
       "      <th>2.0</th>\n",
       "      <td>1.44</td>\n",
       "      <td>4.63</td>\n",
       "      <td>6.02</td>\n",
       "      <td>5.11</td>\n",
       "      <td>4.90</td>\n",
       "      <td>6.66</td>\n",
       "      <td>6.34</td>\n",
       "      <td>8.84</td>\n",
       "      <td>13.63</td>\n",
       "      <td>12.99</td>\n",
       "      <td>29.23</td>\n",
       "      <td>NaN</td>\n",
       "      <td>NaN</td>\n",
       "      <td>NaN</td>\n",
       "    </tr>\n",
       "    <tr>\n",
       "      <th>3.0</th>\n",
       "      <td>3.50</td>\n",
       "      <td>6.43</td>\n",
       "      <td>6.65</td>\n",
       "      <td>5.82</td>\n",
       "      <td>6.30</td>\n",
       "      <td>6.03</td>\n",
       "      <td>6.67</td>\n",
       "      <td>9.23</td>\n",
       "      <td>12.38</td>\n",
       "      <td>14.06</td>\n",
       "      <td>22.68</td>\n",
       "      <td>NaN</td>\n",
       "      <td>NaN</td>\n",
       "      <td>NaN</td>\n",
       "    </tr>\n",
       "    <tr>\n",
       "      <th>4.0</th>\n",
       "      <td>2.46</td>\n",
       "      <td>8.17</td>\n",
       "      <td>7.22</td>\n",
       "      <td>6.99</td>\n",
       "      <td>7.50</td>\n",
       "      <td>7.61</td>\n",
       "      <td>7.80</td>\n",
       "      <td>9.98</td>\n",
       "      <td>11.30</td>\n",
       "      <td>11.37</td>\n",
       "      <td>19.42</td>\n",
       "      <td>0.05</td>\n",
       "      <td>NaN</td>\n",
       "      <td>NaN</td>\n",
       "    </tr>\n",
       "    <tr>\n",
       "      <th>5.0</th>\n",
       "      <td>3.99</td>\n",
       "      <td>8.80</td>\n",
       "      <td>8.27</td>\n",
       "      <td>7.59</td>\n",
       "      <td>7.41</td>\n",
       "      <td>7.44</td>\n",
       "      <td>8.19</td>\n",
       "      <td>9.76</td>\n",
       "      <td>11.26</td>\n",
       "      <td>10.09</td>\n",
       "      <td>17.00</td>\n",
       "      <td>NaN</td>\n",
       "      <td>NaN</td>\n",
       "      <td>NaN</td>\n",
       "    </tr>\n",
       "  </tbody>\n",
       "</table>\n",
       "</div>"
      ],
      "text/plain": [
       "                0.0   1.0   2.0   3.0   4.0   5.0   6.0   7.0    8.0    9.0   \\\n",
       "NotaConsumidor                                                                 \n",
       "1.0             1.51  4.65  4.72  4.92  5.00  5.53  5.81  8.27  13.11  14.83   \n",
       "2.0             1.44  4.63  6.02  5.11  4.90  6.66  6.34  8.84  13.63  12.99   \n",
       "3.0             3.50  6.43  6.65  5.82  6.30  6.03  6.67  9.23  12.38  14.06   \n",
       "4.0             2.46  8.17  7.22  6.99  7.50  7.61  7.80  9.98  11.30  11.37   \n",
       "5.0             3.99  8.80  8.27  7.59  7.41  7.44  8.19  9.76  11.26  10.09   \n",
       "\n",
       "                 10.0  11.0  12.0  13.0  \n",
       "NotaConsumidor                           \n",
       "1.0             30.80  0.03  0.01  0.02  \n",
       "2.0             29.23   NaN   NaN   NaN  \n",
       "3.0             22.68   NaN   NaN   NaN  \n",
       "4.0             19.42  0.05   NaN   NaN  \n",
       "5.0             17.00   NaN   NaN   NaN  "
      ]
     },
     "execution_count": 24,
     "metadata": {},
     "output_type": "execute_result"
    }
   ],
   "source": [
    "df_analise.head()"
   ]
  },
  {
   "cell_type": "code",
   "execution_count": 25,
   "metadata": {},
   "outputs": [
    {
     "name": "stdout",
     "output_type": "stream",
     "text": [
      "O r-quadrado para TempoResposta e NotaConsumidor é: -0.73\n"
     ]
    }
   ],
   "source": [
    "#Calculando a variância global da fare\n",
    "var_global = np.var(df.TempoResposta)\n",
    "\n",
    "#calculando a variância em cada categoria da Survived\n",
    "var_categ = df.groupby('NotaConsumidor').apply(lambda x: np.var(x.TempoResposta))\n",
    "total_categ = df.NotaConsumidor.value_counts()\n",
    "\n",
    "#Variância ponderada pelo número de observações na categoria\n",
    "var_ = (total_categ[1]* var_categ[1] + total_categ[2] * var_categ[2] + total_categ[3]* var_categ[3] + total_categ[4] * var_categ[4] + total_categ[5]* var_categ[5])/ (total_categ[1] + total_categ[2] + total_categ[3] + total_categ[4] + total_categ[5])\n",
    "\n",
    "#r quadrado\n",
    "r_quad = (var_global - var_)/ var_global ; \n",
    "\n",
    "print(\"O r-quadrado para TempoResposta e NotaConsumidor é:\", round(r_quad*100,2))"
   ]
  },
  {
   "cell_type": "markdown",
   "metadata": {},
   "source": [
    "A partir do R2 encontrado, percebe-se que 73% da nota que o consumidor pode ser explicada pelo tempo de resposta. Logo, quanto mais tempo demora a responder a tendência eh que a nota seja mais baixa. O valor negativo do R2 apenas demonstra essa \"relação inversa\": Quanto MAIOR o TempoResposta MENOR a NotaConsumidor."
   ]
  },
  {
   "cell_type": "markdown",
   "metadata": {},
   "source": [
    "**4 - Proporção de reclamações registradas e não respondidas.**"
   ]
  },
  {
   "cell_type": "code",
   "execution_count": 26,
   "metadata": {},
   "outputs": [
    {
     "data": {
      "text/plain": [
       "S    0.95\n",
       "N    0.05\n",
       "Name: Respondida, dtype: float64"
      ]
     },
     "execution_count": 26,
     "metadata": {},
     "output_type": "execute_result"
    }
   ],
   "source": [
    "(df.Respondida.value_counts()/df.shape[0]).round(2)"
   ]
  },
  {
   "cell_type": "markdown",
   "metadata": {},
   "source": [
    "Apenas 5% das reclamações registradas não foram respondidas"
   ]
  },
  {
   "cell_type": "markdown",
   "metadata": {},
   "source": [
    "**5 - Imagine que você é alguém responsável por monitorar a satisfação dos consumidores. Que outros tipos de pergunta e análises você entende que poderiam ser feitas?** Acrescente mais duas perguntas feitas por você, bem como suas análises para responde-las. Importante: É interessante que as análises contenham gráficos. No dia-a-dia de um cientista, grande parte do trabalho é analisar dados e gerar visualizações para apresentá-las."
   ]
  },
  {
   "cell_type": "markdown",
   "metadata": {},
   "source": [
    "5.1 Existe correlação entre a região de atendimento e a nota do consumidor?"
   ]
  },
  {
   "cell_type": "code",
   "execution_count": null,
   "metadata": {},
   "outputs": [],
   "source": []
  },
  {
   "cell_type": "markdown",
   "metadata": {},
   "source": [
    "5.2 Qual a correlação entre a Faixa Etária e a Nota do Consumidor?"
   ]
  },
  {
   "cell_type": "code",
   "execution_count": null,
   "metadata": {},
   "outputs": [],
   "source": []
  }
 ],
 "metadata": {
  "kernelspec": {
   "display_name": "Python 3",
   "language": "python",
   "name": "python3"
  },
  "language_info": {
   "codemirror_mode": {
    "name": "ipython",
    "version": 3
   },
   "file_extension": ".py",
   "mimetype": "text/x-python",
   "name": "python",
   "nbconvert_exporter": "python",
   "pygments_lexer": "ipython3",
   "version": "3.8.8"
  }
 },
 "nbformat": 4,
 "nbformat_minor": 4
}
