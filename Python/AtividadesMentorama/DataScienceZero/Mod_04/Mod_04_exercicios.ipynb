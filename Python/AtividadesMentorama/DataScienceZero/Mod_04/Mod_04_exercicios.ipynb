{
 "cells": [
  {
   "cell_type": "markdown",
   "id": "d4cc1eda",
   "metadata": {},
   "source": [
    "# Exercícios Módulo IV - Banco de Dados - Curso Ciência de Dados do Zero:"
   ]
  },
  {
   "cell_type": "code",
   "execution_count": 1,
   "id": "a82a5813",
   "metadata": {},
   "outputs": [],
   "source": [
    "# importanto o sqlite3\n",
    "\n",
    "import sqlite3"
   ]
  },
  {
   "cell_type": "code",
   "execution_count": 2,
   "id": "d2b0ed8e",
   "metadata": {},
   "outputs": [],
   "source": [
    "# Criando/conectando ao banco de dados:\n",
    "\n",
    "conn = sqlite3.connect(\"modulo4.db\") \n",
    "cursor = conn.cursor() "
   ]
  },
  {
   "cell_type": "markdown",
   "id": "c7cbdc26",
   "metadata": {},
   "source": [
    "**1. A) Criar uma tabela chamada dados_cadastrais onde cada linha representa um funcionário contendo os seguintes atributos: Id, nome, sobrenome, data_nasci, cpf e endereco.**\n",
    "\n",
    "\n",
    "**1. B) criar uma tabela chamada dados_profissionais contendo os seguintes atributos: id, graduacao, cargo, salario e tempo_casa.**\n",
    "\n",
    "\n",
    "**Insira 4 registros em cada uma das tabelas!**\n",
    "\n",
    "\n",
    "Obs.: Como a data de nascimento não foi informada nos dados do exercício, você pode inserir uma data fictícia a sua escolha ou ainda atribuir o valor 0.\n"
   ]
  },
  {
   "cell_type": "code",
   "execution_count": 3,
   "id": "b68cdeef",
   "metadata": {},
   "outputs": [
    {
     "name": "stdout",
     "output_type": "stream",
     "text": [
      "Tabelas criadas com sucesso!\n"
     ]
    }
   ],
   "source": [
    "# Criar tabela 1:\n",
    "\n",
    "cursor.execute(\"CREATE TABLE dados_cadastrais (Id integer, nome text, sobrenome text, data_nasci integer, cpf inteiro, endereco text)\");\n",
    "\n",
    "\n",
    "# Criar tabela 2:\n",
    "cursor.execute(\"CREATE TABLE dados_profissionais (Id integer, graduacao text, cargo text, salario float, tempo_casa inteiro)\");\n",
    "print('Tabelas criadas com sucesso!')"
   ]
  },
  {
   "cell_type": "code",
   "execution_count": 4,
   "id": "29f12654",
   "metadata": {},
   "outputs": [
    {
     "data": {
      "text/plain": [
       "[('dados_cadastrais',), ('dados_profissionais',)]"
      ]
     },
     "execution_count": 4,
     "metadata": {},
     "output_type": "execute_result"
    }
   ],
   "source": [
    "#Verificando a criação das tabelas. \n",
    "\n",
    "cursor.execute('SELECT name from sqlite_master where type= \"table\"')\n",
    "\n",
    "#O comando fetchall é responsável por apresentar o resultado da query.\n",
    "cursor.fetchall()"
   ]
  },
  {
   "cell_type": "markdown",
   "id": "fe920c4a",
   "metadata": {},
   "source": [
    "#se necessário, para reiniciar o exercício, realizar a exclusão das tabelas.\n",
    "cursor.execute(\"DROP TABLE dados_cadastrais\")\n",
    "cursor.execute(\"DROP TABLE dados_profissionais\")\n",
    "print('As tabelas foram excluída com sucesso!')"
   ]
  },
  {
   "cell_type": "code",
   "execution_count": 5,
   "id": "1cc05634",
   "metadata": {},
   "outputs": [],
   "source": [
    "# Inserir dados na tabela 1:\n",
    "\n",
    "cursor.execute(\"INSERT INTO dados_cadastrais VALUES(1, 'maria', 'silva', 0, 11111211313, 'rua 1 - SP')\") \n",
    "cursor.execute(\"INSERT INTO dados_cadastrais VALUES(2, 'joao', 'silva', 0, 11111311315, 'rua 2 - SP')\") \n",
    "cursor.execute(\"INSERT INTO dados_cadastrais VALUES(1, 'pedro', 'pereira', 0, 11111411316, 'rua 8 - SP')\") \n",
    "cursor.execute(\"INSERT INTO dados_cadastrais VALUES(1, 'paulo', 'ribeiro', 0, 11123211301, 'rua 9 - SP')\") \n",
    "conn.commit()"
   ]
  },
  {
   "cell_type": "code",
   "execution_count": 6,
   "id": "3c1dd7d2",
   "metadata": {},
   "outputs": [
    {
     "data": {
      "text/plain": [
       "[(1, 'maria', 'silva', 0, 11111211313, 'rua 1 - SP'),\n",
       " (2, 'joao', 'silva', 0, 11111311315, 'rua 2 - SP'),\n",
       " (1, 'pedro', 'pereira', 0, 11111411316, 'rua 8 - SP'),\n",
       " (1, 'paulo', 'ribeiro', 0, 11123211301, 'rua 9 - SP')]"
      ]
     },
     "execution_count": 6,
     "metadata": {},
     "output_type": "execute_result"
    }
   ],
   "source": [
    "# Visualizando a tabela 1:\n",
    "\n",
    "cursor.execute(\"SELECT * FROM dados_cadastrais\")\n",
    "cursor.fetchall()"
   ]
  },
  {
   "cell_type": "code",
   "execution_count": 7,
   "id": "87e673cc",
   "metadata": {},
   "outputs": [],
   "source": [
    "# Inserir dados na tabela 2:\n",
    "\n",
    "cursor.execute(\"INSERT INTO dados_profissionais VALUES(1, 'matematica', 'professor', 3500.89, 3)\") \n",
    "cursor.execute(\"INSERT INTO dados_profissionais VALUES(2, 'geografia', 'orientador', 2850.8, 1)\")\n",
    "cursor.execute(\"INSERT INTO dados_profissionais VALUES(3, 'historia', 'orientador', 3200.45, 1)\")\n",
    "cursor.execute(\"INSERT INTO dados_profissionais VALUES(4, 'fisica', 'professor', 1890.33, 2)\")\n",
    "conn.commit()"
   ]
  },
  {
   "cell_type": "code",
   "execution_count": 8,
   "id": "7f076df8",
   "metadata": {},
   "outputs": [
    {
     "data": {
      "text/plain": [
       "[(1, 'matematica', 'professor', 3500.89, 3),\n",
       " (2, 'geografia', 'orientador', 2850.8, 1),\n",
       " (3, 'historia', 'orientador', 3200.45, 1),\n",
       " (4, 'fisica', 'professor', 1890.33, 2)]"
      ]
     },
     "execution_count": 8,
     "metadata": {},
     "output_type": "execute_result"
    }
   ],
   "source": [
    "# Visualizando a tabela 2:\n",
    "\n",
    "cursor.execute(\"SELECT * FROM dados_profissionais\")\n",
    "cursor.fetchall()"
   ]
  },
  {
   "cell_type": "markdown",
   "id": "f2ff4d2f",
   "metadata": {},
   "source": [
    "**2. Usando a tabela dados_profissionais, escreva uma query que retorne todos os campos da tabela ordenando-os pela coluna tempo_casa de maneira decrescente.**"
   ]
  },
  {
   "cell_type": "code",
   "execution_count": 9,
   "id": "b7466588",
   "metadata": {},
   "outputs": [
    {
     "data": {
      "text/plain": [
       "[(1, 'matematica', 'professor', 3500.89, 3),\n",
       " (4, 'fisica', 'professor', 1890.33, 2),\n",
       " (2, 'geografia', 'orientador', 2850.8, 1),\n",
       " (3, 'historia', 'orientador', 3200.45, 1)]"
      ]
     },
     "execution_count": 9,
     "metadata": {},
     "output_type": "execute_result"
    }
   ],
   "source": [
    "cursor.execute(\"SELECT * FROM dados_profissionais ORDER BY tempo_casa DESC\")\n",
    "cursor.fetchall()"
   ]
  },
  {
   "cell_type": "markdown",
   "id": "1067812d",
   "metadata": {},
   "source": [
    "**3. Conte a quantidade de funcionarios dessa empresa**"
   ]
  },
  {
   "cell_type": "code",
   "execution_count": 10,
   "id": "818dab09",
   "metadata": {},
   "outputs": [
    {
     "data": {
      "text/plain": [
       "[(4,)]"
      ]
     },
     "execution_count": 10,
     "metadata": {},
     "output_type": "execute_result"
    }
   ],
   "source": [
    "cursor.execute(\"SELECT COUNT(Id) FROM dados_cadastrais\")\n",
    "cursor.fetchall()"
   ]
  },
  {
   "cell_type": "markdown",
   "id": "78342cfb",
   "metadata": {},
   "source": [
    "**4. Usando a tabela dados_cadastrais, escreva uma query que liste apenas os funcionarios que possuem sobrenome \"silva\" ordenados pelo nome completo, ou seja, nome e sobrenome.**"
   ]
  },
  {
   "cell_type": "code",
   "execution_count": 11,
   "id": "7002d728",
   "metadata": {},
   "outputs": [
    {
     "data": {
      "text/plain": [
       "[(2, 'joao', 'silva', 0, 11111311315, 'rua 2 - SP'),\n",
       " (1, 'maria', 'silva', 0, 11111211313, 'rua 1 - SP')]"
      ]
     },
     "execution_count": 11,
     "metadata": {},
     "output_type": "execute_result"
    }
   ],
   "source": [
    "cursor.execute(\"SELECT * FROM dados_cadastrais WHERE sobrenome=='silva' ORDER BY nome\")\n",
    "cursor.fetchall()"
   ]
  },
  {
   "cell_type": "markdown",
   "id": "8efe0e16",
   "metadata": {},
   "source": [
    "**5. Escreva uma query que liste o valor da folha de pagamento dessa empresa por cargo usando a tabela dados_profissionais, ou seja, somar os salarios em cada cargo.**"
   ]
  },
  {
   "cell_type": "code",
   "execution_count": 12,
   "id": "e178369e",
   "metadata": {},
   "outputs": [
    {
     "data": {
      "text/plain": [
       "[(6051.25, 'orientador'), (5391.219999999999, 'professor')]"
      ]
     },
     "execution_count": 12,
     "metadata": {},
     "output_type": "execute_result"
    }
   ],
   "source": [
    "cursor.execute(\"SELECT SUM(salario), cargo FROM dados_profissionais GROUP BY cargo \")\n",
    "cursor.fetchall()"
   ]
  }
 ],
 "metadata": {
  "kernelspec": {
   "display_name": "Python 3",
   "language": "python",
   "name": "python3"
  },
  "language_info": {
   "codemirror_mode": {
    "name": "ipython",
    "version": 3
   },
   "file_extension": ".py",
   "mimetype": "text/x-python",
   "name": "python",
   "nbconvert_exporter": "python",
   "pygments_lexer": "ipython3",
   "version": "3.8.8"
  }
 },
 "nbformat": 4,
 "nbformat_minor": 5
}
