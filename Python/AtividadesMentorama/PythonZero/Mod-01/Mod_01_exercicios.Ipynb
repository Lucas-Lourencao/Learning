{
 "cells": [
  {
   "attachments": {},
   "cell_type": "markdown",
   "metadata": {},
   "source": [
    "1. Faça um programa que imprima seu nome completo na tela."
   ]
  },
  {
   "cell_type": "code",
   "execution_count": null,
   "metadata": {},
   "outputs": [],
   "source": [
    "print(\"Lucas Lourenção\")"
   ]
  },
  {
   "attachments": {},
   "cell_type": "markdown",
   "metadata": {},
   "source": [
    "2. Escreva um programa que exiba o resultado de 5a x 3b onde a = 2 e b = 5"
   ]
  },
  {
   "cell_type": "code",
   "execution_count": null,
   "metadata": {},
   "outputs": [],
   "source": [
    "a = 2\n",
    "b = 5\n",
    "r = (5 * a) + (3 * b)\n",
    "print(r)"
   ]
  },
  {
   "cell_type": "markdown",
   "metadata": {},
   "source": [
    "3. Modifique o primeiro programa, inserindo uma terceira variável c = 5 e imprime a soma das três variáveis"
   ]
  },
  {
   "cell_type": "code",
   "execution_count": null,
   "metadata": {},
   "outputs": [],
   "source": [
    "a = 2\n",
    "b = 5\n",
    "c = 5\n",
    "r = a + b + c\n",
    "print(r)"
   ]
  },
  {
   "attachments": {},
   "cell_type": "markdown",
   "metadata": {},
   "source": [
    "4. Escreva um programa que leia dois números e que pergunte qual operação você deseja realizar.\n",
    "- Você deve poder calcular a soma (+), subtração(-), multiplicação(*) e divisão(/).\n",
    "- Exiba o resultado da operação."
   ]
  },
  {
   "cell_type": "code",
   "execution_count": null,
   "metadata": {},
   "outputs": [],
   "source": [
    "a = float(input('Digite um número: '))\n",
    "b = float(input('Digite outro número: '))\n",
    "c = input(f'''Informe qual operação você deseja realizar\\nentre os números {a} e {b}, indicando um dos operadores a seguir:\\n '+', '-', '*' ou '/'.\\nInformar operação: ''')\n",
    "if c == '+':\n",
    "    print(a + b)\n",
    "elif c == '-':\n",
    "    print(a - b)\n",
    "elif c == '*':\n",
    "    print(a * b)\n",
    "elif c == '/':\n",
    "    print(a / b)\n",
    "else:\n",
    "    print('O comando dado não é uma operação válida!')"
   ]
  },
  {
   "attachments": {},
   "cell_type": "markdown",
   "metadata": {},
   "source": [
    "5. Escreva um programa em Python para contar de 1 até 10.\n",
    "- a) usando a instrução while"
   ]
  },
  {
   "cell_type": "code",
   "execution_count": null,
   "metadata": {},
   "outputs": [],
   "source": [
    "count = 0\n",
    "while(count <= 10):\n",
    "    print(count)\n",
    "    count += 1"
   ]
  },
  {
   "attachments": {},
   "cell_type": "markdown",
   "metadata": {},
   "source": [
    "- b) usando a instrução for e a função range"
   ]
  },
  {
   "cell_type": "code",
   "execution_count": null,
   "metadata": {},
   "outputs": [],
   "source": [
    "i = 0\n",
    "# lembrando que range(i, j, p) cria uma lista de i até j-1 em um passo p\n",
    "for i in range(0, 11):\n",
    "    print(i)\n",
    "    i += 1\n",
    "    "
   ]
  },
  {
   "attachments": {},
   "cell_type": "markdown",
   "metadata": {},
   "source": [
    "6. Escreva um programa para contar quantos números pares e ímpares existentes entre 1 e 10 bem como a soma deles.\n",
    "- a) usando a instrução while"
   ]
  },
  {
   "cell_type": "code",
   "execution_count": null,
   "metadata": {},
   "outputs": [],
   "source": [
    "# Numeros Pares\n",
    "numPar = 0\n",
    "numImpar = 0\n",
    "# Contador começando com 1, pois o intervalo requerido é de 1 a 10.\n",
    "contador = 1\n",
    "while contador <= 10:\n",
    "    # print(contador)\n",
    "    contador += 1\n",
    "    if contador % 2 == 0:\n",
    "        numPar += 1\n",
    "    else:\n",
    "        numImpar += 1\n",
    "print(f'''Entre 1 e 10 existem {numPar} números pares e {numImpar} números impares,'\n",
    "sendo a soma do número de pares e ímpares igual a {numPar + numImpar}.''')"
   ]
  },
  {
   "attachments": {},
   "cell_type": "markdown",
   "metadata": {},
   "source": [
    "- b) usando a instrução for e as funções range e sum"
   ]
  },
  {
   "cell_type": "code",
   "execution_count": null,
   "metadata": {},
   "outputs": [],
   "source": [
    "numPar = 0\n",
    "numImpar = 0\n",
    "for contador in range(1, 11):\n",
    "    print(contador)\n",
    "    contador += 1\n",
    "    if contador % 2 == 0:\n",
    "        numPar += 1\n",
    "    else:\n",
    "        numImpar += 1\n",
    "\n",
    "# criação de um iterable para aplicação da função sum\n",
    "quantidadeParesImpares = (numPar, numImpar)\n",
    "print(f'''Entre 1 e 10 existem {numPar} números pares e {numImpar} números impares,'\n",
    "sendo a soma do número de pares e ímpares igual a {sum(quantidadeParesImpares)}.''')"
   ]
  },
  {
   "cell_type": "markdown",
   "metadata": {},
   "source": [
    "7.\tEscreva um programa para resolver equações do segundo grau representadas por ax2+bx+c usando a Fórmula de Bhaskara.\n",
    "\n",
    "- a) sem usar o módulo math:"
   ]
  },
  {
   "cell_type": "code",
   "execution_count": null,
   "metadata": {},
   "outputs": [],
   "source": [
    "# Inicializando as variáveis\n",
    "a = 1\n",
    "b = -5\n",
    "c = 6\n",
    "\n",
    "# Calculo do discriminante\n",
    "d = (b ** 2) - (4 * a * c)\n",
    "\n",
    "# Raízes\n",
    "x1 = ((-b) + (d ** (1/2)))/(2 * a)\n",
    "x2 = ((-b) - (d ** (1/2)))/(2 * a)\n",
    "print('Para os valores informados: a = {:.2f}, b = {:.2f} e c = {:.2f}.'.format(a, b, c))\n",
    "print('Temos {:.2f} para o valor de Delta e {:.2f}, {:.2f} para os valores das raízes.'.format(d, x1, x2))\n",
    "\n",
    "# a=1,b=-5,c=6 --> d =1 ; x1 =3 , x2 =2 .\n",
    "# a=1,b=0,c=-9 --> d =36 ; x1 =3 , x2 =-3 .\n",
    "# a=5,b=-45,c=0 --> d =2025 ; x1 =9 , x2 =0 .\n",
    "# a=1,b=-1,c=-12 --> d =-47 ; x1 =0.50+3.43j , x2 =0.50-3.43j .\n",
    "# a=1,b=-6,c=10 --> d =-4 ; x1 =3.00+1.00j , x2 =3.00-1.00j ."
   ]
  },
  {
   "attachments": {},
   "cell_type": "markdown",
   "metadata": {},
   "source": [
    "- b) usando o módulo math:"
   ]
  },
  {
   "cell_type": "code",
   "execution_count": null,
   "metadata": {},
   "outputs": [],
   "source": [
    "from math import pow, sqrt\n",
    "a = 1\n",
    "b = -5\n",
    "c = 6\n",
    "\n",
    "d = pow(b, 2) - (4 * a * c)\n",
    "\n",
    "x1 = (-(b) + sqrt(d))/(2 * a)\n",
    "x2 = (-(b) - sqrt(d))/(2 * a)\n",
    "\n",
    "print('Para os valores informados: a = {:.2f}, b = {:.2f} e c = {:.2f}.'.format(a, b, c))\n",
    "print('Temos {:.2f} para o valor de Delta e {:.2f}, {:.2f} para os valores das raízes.'.format(d, x1, x2))"
   ]
  },
  {
   "attachments": {},
   "cell_type": "markdown",
   "metadata": {},
   "source": [
    "8. Reescreva o programa acima criando uma função bhaskara que recebe como parâmetros os coeficientes a, b e c e retorna as raízes da equação."
   ]
  },
  {
   "cell_type": "code",
   "execution_count": null,
   "metadata": {},
   "outputs": [],
   "source": [
    "a = float(input('Informe um valor para a: '))\n",
    "b = float(input('Informe um valor para b: '))\n",
    "c = float(input('Informe um valor para c: '))\n",
    "\n",
    "d = (b ** 2) - (4 * a * c)\n",
    "\n",
    "x1 = ((-b) + (d ** (1/2)))/(2 * a)\n",
    "x2 = ((-b) - (d ** (1/2)))/(2 * a)\n",
    "print('Para os valores informados: a = {:.2f}, b = {:.2f} e c = {:.2f}.'.format(a, b, c))\n",
    "print('Temos {:.2f} e {:.2f} para os valores das raízes.'.format(x1, x2))"
   ]
  },
  {
   "attachments": {},
   "cell_type": "markdown",
   "metadata": {},
   "source": [
    "9. Considerando a string s = 'Mentorama' escreva um programa que:\n",
    "- a) converta a string para maiúsculo, em seguida"
   ]
  },
  {
   "cell_type": "code",
   "execution_count": null,
   "metadata": {},
   "outputs": [],
   "source": [
    "s = 'Mentorama'\n",
    "s_maiusculo = s.upper()\n",
    "print(f'Em maiúsculo temos: {s_maiusculo}')"
   ]
  },
  {
   "attachments": {},
   "cell_type": "markdown",
   "metadata": {},
   "source": [
    "- b) imprima-a de trás para frente\n",
    "#Mentorama são 9 caracteres, mas considerando a posição 0 são 8 posições, por isso i deve ser\n",
    "#descrito da forma abaixo:"
   ]
  },
  {
   "cell_type": "code",
   "execution_count": null,
   "metadata": {},
   "outputs": [],
   "source": [
    "i = len(s_maiusculo) - 1\n",
    "trasParaFrente = ''\n",
    "while i >= 0:\n",
    "    trasParaFrente = trasParaFrente + s_maiusculo[i]\n",
    "    i += -1\n",
    "print(f'De trás para frente temos: {trasParaFrente}')"
   ]
  },
  {
   "attachments": {},
   "cell_type": "markdown",
   "metadata": {},
   "source": [
    "- c) imprima somente as vogais\n"
   ]
  },
  {
   "cell_type": "code",
   "execution_count": null,
   "metadata": {},
   "outputs": [],
   "source": [
    "vogais = ''\n",
    "tamanhoPalavra = 0\n",
    "while tamanhoPalavra != len(s):\n",
    "    if s[tamanhoPalavra] == 'a':\n",
    "        vogais = vogais + s[tamanhoPalavra]\n",
    "    elif s[tamanhoPalavra] == 'e':\n",
    "        vogais = vogais + s[tamanhoPalavra]\n",
    "    elif s[tamanhoPalavra] == 'i':\n",
    "        vogais = vogais + s[tamanhoPalavra]\n",
    "    elif s[tamanhoPalavra] == 'o':\n",
    "        vogais = vogais + s[tamanhoPalavra]\n",
    "    elif s[tamanhoPalavra] == 'u':\n",
    "        vogais = vogais + s[tamanhoPalavra]\n",
    "    tamanhoPalavra += 1\n",
    "print(f'As vogais presentes na palavra Mentorama são: {vogais}.')"
   ]
  },
  {
   "attachments": {},
   "cell_type": "markdown",
   "metadata": {},
   "source": [
    "10. Escreva um programa que:\n",
    "- 10.1 Pergunte o valor inicial de uma dívida e o juros mensal; \n",
    "- 10.2 Pergunte também o valor mensal que será pago;\n",
    "- 10.3 Imprima o número de meses para que a dívida seja paga;\n",
    "- 10.4 O total pago;\n",
    "- E o total de juros a pago."
   ]
  },
  {
   "cell_type": "code",
   "execution_count": null,
   "metadata": {},
   "outputs": [],
   "source": [
    "divida = float(input('Informe o valor inicial da dívida: R$ '))\n",
    "taxa = float(input('Informe o juros mensais, em %, a serem cobrados: '))\n",
    "parcela = float(input('Qual o valor mensal da parcela: R$ '))\n",
    "\n",
    "# primeiroMes\n",
    "saldoDevedorPrimeiroMes = divida * (1 + (taxa / 100))\n",
    "print('Antes do pagamento da primeira parcela a dívida era R$ {:.2f}.'.format(saldoDevedorPrimeiroMes))\n",
    "\n",
    "saldoDevedor = saldoDevedorPrimeiroMes\n",
    "numeroParcela = 1\n",
    "while saldoDevedor > parcela:\n",
    "    saldoDevedor = (saldoDevedor - parcela)*(1 + (taxa / 100))\n",
    "    numeroParcela += 1\n",
    "\n",
    "ultimaParcela = saldoDevedor\n",
    "print('O valor da última parcela foi de R$ {:.2f}.'.format(ultimaParcela))\n",
    "\n",
    "totalPago = (numeroParcela * parcela) + ultimaParcela\n",
    "print('O valor total pago é igual a R$ {:.2f}.'.format(totalPago))\n",
    "juros = totalPago - divida\n",
    "print('O juros pago foi de R$ {:.2f}.'.format(juros))\n",
    "totalParcelas = numeroParcela + 1\n",
    "print('A dívida será paga em {:.2f} meses.'.format(totalParcelas))\n",
    "\n",
    "# segundoMes\n",
    "#saldoDevedor2 = saldoDevedor1 - parcela\n",
    "#print(saldoDevedor2)\n",
    "\n",
    "# terceiroMes\n",
    "#saldoDevedor3 = saldoDevedor2 - parcela\n",
    "#print(saldoDevedor3)\n",
    "\n",
    "# quartoMes\n",
    "#saldoDevedor4 = saldoDevedor3 - parcela\n",
    "#print(saldoDevedor4)\n",
    "\n",
    "# t = (divida * (1 + ((1 + i)**t)))/parcela\n",
    "# pagoTotal = parcela * t"
   ]
  },
  {
   "cell_type": "markdown",
   "metadata": {},
   "source": []
  }
 ],
 "metadata": {
  "kernelspec": {
   "display_name": "Python 3",
   "language": "python",
   "name": "python3"
  },
  "language_info": {
   "codemirror_mode": {
    "name": "ipython",
    "version": 3
   },
   "file_extension": ".py",
   "mimetype": "text/x-python",
   "name": "python",
   "nbconvert_exporter": "python",
   "pygments_lexer": "ipython3",
   "version": "3.11.1"
  },
  "orig_nbformat": 4,
  "vscode": {
   "interpreter": {
    "hash": "b5ecfca3401c291dcb2a8e6ff9d9f64f4f1eeab21fd8b2b195c87381ae7d7938"
   }
  }
 },
 "nbformat": 4,
 "nbformat_minor": 2
}
